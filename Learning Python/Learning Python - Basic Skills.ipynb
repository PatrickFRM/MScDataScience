{
 "cells": [
  {
   "cell_type": "markdown",
   "id": "27d8d9cf",
   "metadata": {},
   "source": [
    "# **Learning Python: Basic Skills**"
   ]
  },
  {
   "cell_type": "markdown",
   "id": "3ba3980a",
   "metadata": {
    "tags": []
   },
   "source": [
    "## Printing"
   ]
  },
  {
   "cell_type": "markdown",
   "id": "4e7f7412-7eff-4ced-a19a-300213f53919",
   "metadata": {},
   "source": [
    "### Printing to the Console"
   ]
  },
  {
   "cell_type": "markdown",
   "id": "92fb3576-f456-4783-bdf2-ffc5854513cc",
   "metadata": {},
   "source": [
    "In order to print you have to use the 'Print' command"
   ]
  },
  {
   "cell_type": "code",
   "execution_count": 1,
   "id": "70914722-9544-481b-9178-fe3217e0ff6b",
   "metadata": {},
   "outputs": [
    {
     "name": "stdout",
     "output_type": "stream",
     "text": [
      "Hello World\n"
     ]
    }
   ],
   "source": [
    "print(\"Hello World\")"
   ]
  },
  {
   "cell_type": "markdown",
   "id": "37ccee6d-1776-47aa-b78b-b1c81fc92ccc",
   "metadata": {},
   "source": [
    "### Newline Character"
   ]
  },
  {
   "cell_type": "markdown",
   "id": "93e7ada9-eb29-4cce-aff0-7c93462d3770",
   "metadata": {},
   "source": [
    "Thit will print the same lines of code on one line rather than 2 separate ones"
   ]
  },
  {
   "cell_type": "code",
   "execution_count": 2,
   "id": "28623361-e74b-47d7-a219-30c487c3a5d0",
   "metadata": {},
   "outputs": [
    {
     "name": "stdout",
     "output_type": "stream",
     "text": [
      "Hello world\n"
     ]
    }
   ],
   "source": [
    "print(\"Hello \", end='')\n",
    "print(\"world\")"
   ]
  },
  {
   "cell_type": "markdown",
   "id": "298fa2a5-ebbb-4951-8de6-e705890fc2db",
   "metadata": {},
   "source": [
    "### Comments"
   ]
  },
  {
   "cell_type": "markdown",
   "id": "c598831d-746d-4b86-a209-d01983bb9c3f",
   "metadata": {},
   "source": [
    "Using # allows the author to write comments next to their code which allows them to know what it does in addition allows you to share code with ease as the user will be able to read the comments and understand the code. Example below:"
   ]
  },
  {
   "cell_type": "code",
   "execution_count": 3,
   "id": "106a6171-261d-492c-82f6-10939a9577d8",
   "metadata": {},
   "outputs": [
    {
     "name": "stdout",
     "output_type": "stream",
     "text": [
      "Hello World\n"
     ]
    }
   ],
   "source": [
    "print(\"Hello World\") # This code allows me to print to the console by writing whatever I'd like within the quotation marks"
   ]
  },
  {
   "cell_type": "markdown",
   "id": "66ebe4b9-ecc4-46c4-bae6-27cfce6a1c14",
   "metadata": {
    "jp-MarkdownHeadingCollapsed": true,
    "tags": []
   },
   "source": [
    "## Variables"
   ]
  },
  {
   "cell_type": "markdown",
   "id": "558373ff-3281-4600-9b84-6275c0dc76dc",
   "metadata": {},
   "source": [
    "### Assigning Value"
   ]
  },
  {
   "cell_type": "markdown",
   "id": "a0b2691d-e2fe-4f06-b0fc-59f8b6c30b0a",
   "metadata": {},
   "source": [
    "The value stored in a variable can change. Use the assignment operator to give a variable a new value.\n",
    "\n",
    "The image above is not declaring two variables called my_variable. The first line declares the variable because this is the first instance. The second line overwrites Hello world with Goodbye world. Enter the code below and see the results of the print commands. Use the code visualizer to see how the value of my_variable changes."
   ]
  },
  {
   "cell_type": "code",
   "execution_count": 4,
   "id": "fc847f1f-9b6c-440f-b2ec-1e02a2bee757",
   "metadata": {},
   "outputs": [
    {
     "name": "stdout",
     "output_type": "stream",
     "text": [
      "Hello world\n",
      "Goodbye world\n"
     ]
    }
   ],
   "source": [
    "my_variable = \"Hello world\"\n",
    "print(my_variable)\n",
    "my_variable = \"Goodbye world\"\n",
    "print(my_variable)"
   ]
  },
  {
   "cell_type": "markdown",
   "id": "e3f1d00d-1517-4278-bccf-a95af226384e",
   "metadata": {},
   "source": [
    "### Strings"
   ]
  },
  {
   "cell_type": "markdown",
   "id": "382f0117-c5ce-4f80-858d-821c8f6cf783",
   "metadata": {},
   "source": [
    "A string is a collection of text, numbers, or symbols. Strings are always surrounded by quotation marks."
   ]
  },
  {
   "cell_type": "code",
   "execution_count": 5,
   "id": "4cb26e70-5134-4517-be5d-399b3ce2eae3",
   "metadata": {},
   "outputs": [
    {
     "name": "stdout",
     "output_type": "stream",
     "text": [
      "This is a string\n",
      "This is a string also\n"
     ]
    }
   ],
   "source": [
    "string_variable = \"This is a string\"\n",
    "second_string = 'This is a string also'\n",
    "print(string_variable)\n",
    "print(second_string)"
   ]
  },
  {
   "cell_type": "markdown",
   "id": "ba208c26-3543-4c15-a0f6-41d1de380fca",
   "metadata": {},
   "source": [
    "### Boolean"
   ]
  },
  {
   "cell_type": "markdown",
   "id": "5e86ef46-2a9a-42bb-89f8-d76f3bd0e6ac",
   "metadata": {},
   "source": [
    "Boolean values mean True or False. You will see how boolean values are used when we talk about conditionals and while loops. They are also case senstive so must be upper case."
   ]
  },
  {
   "cell_type": "code",
   "execution_count": 7,
   "id": "9d19d1fe-a80e-46f7-8bd0-94ae243ec2ec",
   "metadata": {},
   "outputs": [],
   "source": [
    "boolean_value_true = True\n",
    "boolean_value_false = False"
   ]
  },
  {
   "cell_type": "markdown",
   "id": "ed059806-f10b-47ea-b3f2-d9611de34373",
   "metadata": {},
   "source": [
    "### Integers"
   ]
  },
  {
   "cell_type": "markdown",
   "id": "758a72a0-d64f-4c1d-aa22-4185d578efb0",
   "metadata": {},
   "source": [
    "Integers (often called ints) are whole numbers. They can be positive or negative. Do not use a comma when typing large numbers."
   ]
  },
  {
   "cell_type": "markdown",
   "id": "a7f55cc8-745d-49ba-a0ba-f231eb181120",
   "metadata": {},
   "source": [
    "`5` is not the same thing as `\"5\"`. The first one is an integer, the second is a string. You will see in a later lesson the different operations you can perform on strings and numbers. Treating a string as a number can cause errors."
   ]
  },
  {
   "cell_type": "code",
   "execution_count": 8,
   "id": "ebaf1058-13f1-4d7c-a097-c628f8689ee0",
   "metadata": {},
   "outputs": [
    {
     "name": "stdout",
     "output_type": "stream",
     "text": [
      "50\n"
     ]
    }
   ],
   "source": [
    "integer_variable = 50 # This shows that the 50 is an integer not a string as seen by the lack of \"\" around it\n",
    "print(integer_variable)"
   ]
  },
  {
   "cell_type": "markdown",
   "id": "d2bcc764-8e5f-4cfb-8897-f8d75f5b75cc",
   "metadata": {},
   "source": [
    "### Floating Point numbers"
   ]
  },
  {
   "cell_type": "markdown",
   "id": "09fcc271-1481-49eb-8ab8-99ff01e52b00",
   "metadata": {},
   "source": [
    "Floating point numbers (often called floats) are numbers with a decimal. They can be positive or negative."
   ]
  },
  {
   "cell_type": "code",
   "execution_count": 10,
   "id": "f68e078d-8f91-4f4a-add0-6cbdc5eb0a78",
   "metadata": {},
   "outputs": [
    {
     "name": "stdout",
     "output_type": "stream",
     "text": [
      "50.0\n"
     ]
    }
   ],
   "source": [
    "float_variable = 50.0 # As shown despite having a different name it is treated similar to an integer\n",
    "print(float_variable)"
   ]
  },
  {
   "cell_type": "markdown",
   "id": "59466e66-1890-4e9f-a281-56ef04b3ccad",
   "metadata": {},
   "source": [
    "## Exercises"
   ]
  },
  {
   "cell_type": "markdown",
   "id": "e1001a25-4ba7-41b7-b334-22fd92f872fa",
   "metadata": {},
   "source": [
    "### Exercise 1"
   ]
  },
  {
   "cell_type": "markdown",
   "id": "ac430f08-f463-4b05-a5db-1874b043e286",
   "metadata": {},
   "source": [
    "Declare a variable my_boolean and assign it the boolean value of true. Print the variable."
   ]
  },
  {
   "cell_type": "code",
   "execution_count": 11,
   "id": "d9834818-a5ac-4eda-8f7c-dfeb760f90c4",
   "metadata": {},
   "outputs": [
    {
     "name": "stdout",
     "output_type": "stream",
     "text": [
      "True\n"
     ]
    }
   ],
   "source": [
    "my_boolean = True\n",
    "print(my_boolean)"
   ]
  },
  {
   "cell_type": "markdown",
   "id": "e85dec54-bf5a-408c-94c1-debee93feee5",
   "metadata": {},
   "source": [
    "### Exercise 2"
   ]
  },
  {
   "cell_type": "markdown",
   "id": "56ad0725-4ec2-41fc-87d3-95b7b371a483",
   "metadata": {},
   "source": [
    "Declare a variable my_int and assign it the integer value of 3. Print the variable."
   ]
  },
  {
   "cell_type": "code",
   "execution_count": 12,
   "id": "64aa2abf-ca59-4c60-9317-8039e252bc80",
   "metadata": {},
   "outputs": [
    {
     "name": "stdout",
     "output_type": "stream",
     "text": [
      "3\n"
     ]
    }
   ],
   "source": [
    "my_int = 3\n",
    "print(my_int)"
   ]
  },
  {
   "cell_type": "markdown",
   "id": "814d22a8-66a1-480c-a74b-71179ccfd7b4",
   "metadata": {},
   "source": [
    "### Exercise 3"
   ]
  },
  {
   "cell_type": "markdown",
   "id": "4f67f1c8-7c75-46c0-82a4-7d1fd54d1613",
   "metadata": {},
   "source": [
    "Declare a variable my_string and assign it the string value of:\n",
    "\n",
    "This is a string\n",
    "\n",
    "Print the variable."
   ]
  },
  {
   "cell_type": "code",
   "execution_count": 13,
   "id": "45b97ab7-00b1-4399-beb5-110b05cf8963",
   "metadata": {},
   "outputs": [
    {
     "name": "stdout",
     "output_type": "stream",
     "text": [
      "This is a string\n"
     ]
    }
   ],
   "source": [
    "my_string = (\"This is a string\")\n",
    "print(my_string)"
   ]
  },
  {
   "cell_type": "markdown",
   "id": "9ddfa284-6285-4db2-a338-77dd3a83236a",
   "metadata": {},
   "source": [
    "### Exercise 4"
   ]
  },
  {
   "cell_type": "markdown",
   "id": "1ccf4684-0bb0-47de-a212-069c7ee4e4f0",
   "metadata": {},
   "source": [
    "Declare a variable my_float and assign it the floating point value of 3.0. Print the variable."
   ]
  },
  {
   "cell_type": "code",
   "execution_count": 14,
   "id": "f39acde2-28b6-40af-aeff-63b58ca3655b",
   "metadata": {},
   "outputs": [
    {
     "name": "stdout",
     "output_type": "stream",
     "text": [
      "3.0\n"
     ]
    }
   ],
   "source": [
    "my_float = 3.0\n",
    "print(my_float)"
   ]
  },
  {
   "cell_type": "markdown",
   "id": "87d07211-7e43-4451-bbb5-f0223d4cafca",
   "metadata": {},
   "source": [
    "### Exercise 5"
   ]
  },
  {
   "cell_type": "markdown",
   "id": "6e5ed8f5-09c5-4f6f-8420-c84ccbca6872",
   "metadata": {},
   "source": [
    "Use two print statements to write the following string: Okay, it is time to learn about operators."
   ]
  },
  {
   "cell_type": "code",
   "execution_count": 19,
   "id": "c1359e26-0611-487d-a819-49ef36949e71",
   "metadata": {},
   "outputs": [
    {
     "name": "stdout",
     "output_type": "stream",
     "text": [
      "Okay, it is time to learn about operators.\n"
     ]
    }
   ],
   "source": [
    "print(\"Okay, it is time to learn \", end='')\n",
    "print(\"about operators.\")"
   ]
  }
 ],
 "metadata": {
  "kernelspec": {
   "display_name": "Python 3 (ipykernel)",
   "language": "python",
   "name": "python3"
  },
  "language_info": {
   "codemirror_mode": {
    "name": "ipython",
    "version": 3
   },
   "file_extension": ".py",
   "mimetype": "text/x-python",
   "name": "python",
   "nbconvert_exporter": "python",
   "pygments_lexer": "ipython3",
   "version": "3.9.13"
  }
 },
 "nbformat": 4,
 "nbformat_minor": 5
}
